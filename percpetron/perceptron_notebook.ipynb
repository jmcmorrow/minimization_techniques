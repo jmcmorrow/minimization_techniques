{
 "cells": [
  {
   "cell_type": "code",
   "execution_count": 1,
   "source": [
    "import numpy as np\n",
    "import matplotlib.pyplot as plt\n",
    "\n",
    "### E6: Design a Perceptron Network\n",
    "inputs = np.array([\n",
    "    [1,4],\n",
    "    [1,5],\n",
    "    [2,4],\n",
    "    [2,5],\n",
    "    [3,1],\n",
    "    [3,2],\n",
    "    [4,1],\n",
    "    [4,2]\n",
    "])\n",
    "targets = np.array([-1, -1, -1, -1, 1, 1, 1, 1])\n",
    "\n",
    "# i\n",
    "\n",
    "# Creating Class\n",
    "class Perceptron():\n",
    "    def __init__(self, inputs, targets):\n",
    "        # initiallizing inputs and targets\n",
    "        self.inputs = inputs\n",
    "        self.targets = targets\n",
    "        # initiallizing weights and bias\n",
    "        self.weights = np.random.rand(1, self.inputs.shape[1]+1)\n",
    "    \n",
    "    def train(self, epochs):\n",
    "        \"\"\"\n",
    "        training perceptron model using perceptron rule\n",
    "        \"\"\"\n",
    "        for epoch in range(epochs):\n",
    "            for i, input in enumerate(self.inputs):\n",
    "                # Calculating network output\n",
    "                output = self.forward_pass(input)\n",
    "                \n",
    "                # Calculating error\n",
    "                error = self.targets[i] - output\n",
    "                \n",
    "                # Weight updates\n",
    "                self.weights[:, :-1] += error * input\n",
    "                \n",
    "                # Bias updates\n",
    "                self.weights[:, -1] += error #.reshape(2,)\n",
    "\n",
    "        return self\n",
    "    \n",
    "    def activation_function(self, array):\n",
    "        \n",
    "        for i, element in enumerate(array):\n",
    "            if element > 0:\n",
    "                array[i] = 1\n",
    "            else:\n",
    "                array[i] = -1\n",
    "        \n",
    "        return array\n",
    "    \n",
    "    def forward_pass(self, input):\n",
    "        \n",
    "        weight_output = np.dot(self.weights[:, :-1], input.T)\n",
    "        weight_output += self.weights[:, -1]\n",
    "                \n",
    "        output = self.activation_function(weight_output)\n",
    "        \n",
    "        return output"
   ],
   "outputs": [],
   "metadata": {}
  },
  {
   "cell_type": "code",
   "execution_count": 2,
   "source": [
    "# Training network\n",
    "perceptron = Perceptron(inputs, targets)\n",
    "perceptron.train(100)\n",
    "print(perceptron.weights)\n",
    "\n",
    "# iii\n",
    "# Plotting input points and network\n",
    "# Plotting points\n",
    "plt.scatter(inputs[:, 0], inputs[:, 1])\n",
    "# Plotting decision boundary\n",
    "xs = list(range(0, 5))\n",
    "ys = []\n",
    "for x1 in xs:\n",
    "    point = ( (perceptron.weights[0,0] * x1) + perceptron.weights[0,-1] ) / (-1*perceptron.weights[0,1])\n",
    "    ys.append(point)\n",
    "plt.plot(xs, ys)\n",
    "plt.title(\"Input Vectors and Resulting Decision Boundary\")\n",
    "plt.show()"
   ],
   "outputs": [
    {
     "output_type": "stream",
     "name": "stdout",
     "text": [
      "[[ 4.37238226 -5.04756073  0.98465573]]\n"
     ]
    },
    {
     "output_type": "display_data",
     "data": {
      "image/png": "[encoded data removed]",
      "text/plain": [
       "<Figure size 432x288 with 1 Axes>"
      ]
     },
     "metadata": {
      "needs_background": "light"
     }
    }
   ],
   "metadata": {}
  }
 ],
 "nbformat": 4,
 "nbformat_minor": 2,
 "metadata": {
  "language_info": {
   "codemirror_mode": {
    "name": "ipython",
    "version": 3
   },
   "file_extension": ".py",
   "mimetype": "text/x-python",
   "name": "python",
   "nbconvert_exporter": "python",
   "pygments_lexer": "ipython3",
   "version": 3
  },
  "orig_nbformat": 4
 }
}